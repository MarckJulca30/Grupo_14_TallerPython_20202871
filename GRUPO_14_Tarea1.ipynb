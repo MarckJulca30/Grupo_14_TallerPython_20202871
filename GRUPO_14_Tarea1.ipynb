{
  "nbformat": 4,
  "nbformat_minor": 0,
  "metadata": {
    "colab": {
      "provenance": []
    },
    "kernelspec": {
      "name": "python3",
      "display_name": "Python 3"
    },
    "language_info": {
      "name": "python"
    }
  },
  "cells": [
    {
      "cell_type": "markdown",
      "source": [
        "**Tarea grupal 1**"
      ],
      "metadata": {
        "id": "ER-Y5inaZ4it"
      }
    },
    {
      "cell_type": "markdown",
      "source": [
        "1.\n",
        "Utilizando un “if else” cree una estructura que evalúe “x” tal que:\n",
        "\n",
        "Si x es múltiplo de 2 imprima “Es múltiplo de 2”.\n",
        "\n",
        "Si x es múltiplo de 3 imprima “Es múltiplo de 3”\n",
        "\n",
        "Si x es múltiplo de 2 y 3 imprima “Es múltiplo de 2 y 3”\n",
        "\n",
        "Para otro caso, imprime “Otro caso”\n",
        "\n",
        "Muestra un ejemplo con x = 6."
      ],
      "metadata": {
        "id": "3YdAdXZ_aJO9"
      }
    },
    {
      "cell_type": "code",
      "execution_count": null,
      "metadata": {
        "colab": {
          "base_uri": "https://localhost:8080/"
        },
        "id": "upzrXGcFZ3Um",
        "outputId": "3507badf-bdb4-4d6a-95b4-ca3a5563298e"
      },
      "outputs": [
        {
          "output_type": "stream",
          "name": "stdout",
          "text": [
            "Es múltiplo de 2 y 3\n"
          ]
        }
      ],
      "source": [
        "x = 6\n",
        "\n",
        "if x % 2 == 0 and x % 3 == 0:\n",
        "  print(\"Es múltiplo de 2 y 3\")\n",
        "elif x % 2 == 0:\n",
        "  print(\"Es múltiplo de 2\")\n",
        "elif x % 3 == 0:\n",
        "  print(\"Es múltiplo de 3\")\n",
        "else:\n",
        "  print(\"Otro caso\")\n"
      ]
    },
    {
      "cell_type": "markdown",
      "source": [
        "2. Utilizando un “for loop” y el condicional “if else” para un rango del 1 al 100, evalúe “x”\n",
        "tal que:\n",
        "\n",
        "Si x es múltiplo de 3 imprima “Fizz”\n",
        "\n",
        "Si x es múltiplo de 5 imprima “Buzz”\n",
        "\n",
        "Si x es múltiplo de 3 y 5 imprima “FizzBuzz”\n",
        "\n",
        "Para el resto de los casos, solo imprima el número."
      ],
      "metadata": {
        "id": "69SMhwlxc093"
      }
    },
    {
      "cell_type": "code",
      "source": [
        "for x in range(1, 101):\n",
        "  if x % 3 == 0 and x % 5 == 0:\n",
        "    print(\"FizzBuzz\")\n",
        "  elif x % 3 == 0:\n",
        "    print(\"Fizz\")\n",
        "  elif x % 5 == 0:\n",
        "    print(\"Buzz\")\n",
        "  else:\n",
        "    print(x)"
      ],
      "metadata": {
        "colab": {
          "base_uri": "https://localhost:8080/"
        },
        "id": "_b2a2kbNc_dw",
        "outputId": "d9f5075e-306e-4de9-8753-2230d421b4c2"
      },
      "execution_count": null,
      "outputs": [
        {
          "output_type": "stream",
          "name": "stdout",
          "text": [
            "1\n",
            "2\n",
            "Fizz\n",
            "4\n",
            "Buzz\n",
            "Fizz\n",
            "7\n",
            "8\n",
            "Fizz\n",
            "Buzz\n",
            "11\n",
            "Fizz\n",
            "13\n",
            "14\n",
            "FizzBuzz\n",
            "16\n",
            "17\n",
            "Fizz\n",
            "19\n",
            "Buzz\n",
            "Fizz\n",
            "22\n",
            "23\n",
            "Fizz\n",
            "Buzz\n",
            "26\n",
            "Fizz\n",
            "28\n",
            "29\n",
            "FizzBuzz\n",
            "31\n",
            "32\n",
            "Fizz\n",
            "34\n",
            "Buzz\n",
            "Fizz\n",
            "37\n",
            "38\n",
            "Fizz\n",
            "Buzz\n",
            "41\n",
            "Fizz\n",
            "43\n",
            "44\n",
            "FizzBuzz\n",
            "46\n",
            "47\n",
            "Fizz\n",
            "49\n",
            "Buzz\n",
            "Fizz\n",
            "52\n",
            "53\n",
            "Fizz\n",
            "Buzz\n",
            "56\n",
            "Fizz\n",
            "58\n",
            "59\n",
            "FizzBuzz\n",
            "61\n",
            "62\n",
            "Fizz\n",
            "64\n",
            "Buzz\n",
            "Fizz\n",
            "67\n",
            "68\n",
            "Fizz\n",
            "Buzz\n",
            "71\n",
            "Fizz\n",
            "73\n",
            "74\n",
            "FizzBuzz\n",
            "76\n",
            "77\n",
            "Fizz\n",
            "79\n",
            "Buzz\n",
            "Fizz\n",
            "82\n",
            "83\n",
            "Fizz\n",
            "Buzz\n",
            "86\n",
            "Fizz\n",
            "88\n",
            "89\n",
            "FizzBuzz\n",
            "91\n",
            "92\n",
            "Fizz\n",
            "94\n",
            "Buzz\n",
            "Fizz\n",
            "97\n",
            "98\n",
            "Fizz\n",
            "Buzz\n"
          ]
        }
      ]
    },
    {
      "cell_type": "markdown",
      "source": [
        "3. Crea una función 𝒄𝒂𝒍𝒄𝒖𝒍𝒂𝒓_𝒅𝒆𝒔𝒄𝒖𝒆𝒏𝒕𝒐() que permita calcular el descuento aplicado a un\n",
        "producto. Si el total es mayor o igual a 1000, aplica un 20% de descuento, si el total es mayor\n",
        "o igual a 500 pero menor a 1000, aplica un 10% de descuento. Si el total es menor a 500, no\n",
        "aplica ningún descuento. La función debe devolver el total final después de aplicar el descuento. Prueba la función con un total de compra de 1200, 750 y 300."
      ],
      "metadata": {
        "id": "SSQ5-KMmghAK"
      }
    },
    {
      "cell_type": "code",
      "source": [
        "def calcular_descuento(total):\n",
        "    if total >= 1000:\n",
        "        descuento = total * 0.20\n",
        "    elif total >= 500:\n",
        "        descuento = total * 0.10\n",
        "    else:\n",
        "        descuento = 0\n",
        "    total_final = total - descuento\n",
        "    return total_final\n",
        "    # Pruebas\n",
        "total1 = 1200\n",
        "total2 = 750\n",
        "total3 = 300\n",
        "print(f\"Total después del descuento para 1200: {calcular_descuento(total1)}\")\n",
        "print(f\"Total después del descuento para 750: {calcular_descuento(total2)}\")\n",
        "print(f\"Total después del descuento para 300: {calcular_descuento(total3)}\")"
      ],
      "metadata": {
        "id": "OriCFoczf3Yf",
        "colab": {
          "base_uri": "https://localhost:8080/"
        },
        "outputId": "7b135bb8-a022-4322-eb0b-411cc65eb786"
      },
      "execution_count": null,
      "outputs": [
        {
          "output_type": "stream",
          "name": "stdout",
          "text": [
            "Total después del descuento para 1200: 960.0\n",
            "Total después del descuento para 750: 675.0\n",
            "Total después del descuento para 300: 300\n"
          ]
        }
      ]
    },
    {
      "cell_type": "markdown",
      "source": [
        "4. Crea una función llamada 𝒄𝒍𝒂𝒔𝒊𝒇𝒊𝒄𝒂𝒓_𝒆𝒅𝒂𝒅() que reciba como parámetro la edad de una\n",
        "persona. La función debe clasificar a la persona en una de las siguientes categorías:\n",
        "\n",
        "\"Niño\" si la edad es menor de 12 años.\n",
        "\n",
        "\"Adolescente\" si la edad está entre 12 y 17 años.\n",
        "\n",
        "“Joven” si la edad está entre 18 y 24 años.\n",
        "\n",
        "\"Adulto\" si la edad está entre 25 y 64 años.\n",
        "\n",
        "\"Adulto Mayor\" si la edad es mayor o igual a 65 años.\n",
        "\n",
        "La función debe devolver la categoría correspondiente. Prueba la función con las  edades de\n",
        "10, 19, 25 y 70."
      ],
      "metadata": {
        "id": "1wm4Gg7kneu7"
      }
    },
    {
      "cell_type": "code",
      "source": [
        "# Definir la función clasificar_edad\n",
        "def clasificar_edad(edad):\n",
        "    if edad < 12:\n",
        "        return \"Niño\"\n",
        "    elif 12 <= edad <= 17:\n",
        "        return \"Adolescente\"\n",
        "    elif 18 <= edad <= 24:\n",
        "        return \"Joven\"\n",
        "    elif 25 <= edad <= 64:\n",
        "        return \"Adulto\"\n",
        "    elif edad >= 65:\n",
        "        return \"Adulto Mayor\"\n",
        "\n"
      ],
      "metadata": {
        "id": "3yidafdVnmq6"
      },
      "execution_count": null,
      "outputs": []
    },
    {
      "cell_type": "markdown",
      "source": [
        "Si probamos con la lista que nos pidieron"
      ],
      "metadata": {
        "id": "Mk-v-c6ATcil"
      }
    },
    {
      "cell_type": "code",
      "source": [
        "edades = [10, 19, 25, 70]\n",
        "for edad in edades:\n",
        "    print(f\"La persona de {edad} años es: {clasificar_edad(edad)}\")"
      ],
      "metadata": {
        "colab": {
          "base_uri": "https://localhost:8080/"
        },
        "id": "hHHIPoGVTSgA",
        "outputId": "44227d10-13c2-4a60-88d6-7df8356d54d6"
      },
      "execution_count": null,
      "outputs": [
        {
          "output_type": "stream",
          "name": "stdout",
          "text": [
            "La persona de 10 años es: Niño\n",
            "La persona de 19 años es: Joven\n",
            "La persona de 25 años es: Adulto\n",
            "La persona de 70 años es: Adulto Mayor\n"
          ]
        }
      ]
    },
    {
      "cell_type": "markdown",
      "source": [
        "5. Sea la fórmula del CRAEST PUCP\n",
        "\n",
        "CRAEST = ((𝑴𝒆𝒅𝒊𝒂 𝒑𝒆𝒓𝒔𝒐𝒏𝒂𝒍 – 𝒎𝒆𝒅𝒊𝒂 𝒅𝒆𝒍 𝒄𝒖𝒓𝒔𝒐)∗ 𝟏𝟎)/𝑫𝒆𝒔𝒗𝒊𝒂𝒄𝒊ó𝒏 𝒆𝒔𝒕á𝒏𝒅𝒂𝒓 𝒅𝒆𝒍 𝒄𝒖𝒓𝒔𝒐 + 𝟓𝟎\n",
        "\n",
        "Crea una función 𝒄𝒂𝒍𝒄𝒖𝒍𝒂𝒓_𝒄𝒓𝒂𝒆𝒔𝒕(𝒎𝒆𝒅𝒊𝒂_𝒑𝒆𝒓𝒔𝒐𝒏𝒂𝒍,𝒎𝒆𝒅𝒊𝒂_𝒄𝒖𝒓𝒔𝒐,𝒅𝒆𝒔𝒗𝒊𝒂𝒄𝒊𝒐𝒏_𝒄𝒖𝒓𝒔𝒐) que\n",
        "reciba como tres únicos inputs tu media, la media del curso y la desviación estándar del curso\n",
        "y te devuelva tu craest calculado. No te olvides documentar la función usando triple comillas\n",
        "“””.\n",
        "Prueba la función los datos de algún curso que hayas llevado."
      ],
      "metadata": {
        "id": "SKJl2Brpnrp4"
      }
    },
    {
      "cell_type": "code",
      "source": [
        "# Definimos la funcion calcular_craest\n",
        "def calcular_craest(media_personal, media_curso, desviacion_curso):\n",
        "    \"\"\"\n",
        "    Objetivo:\n",
        "      -Calcular el CRAEST según la media personal, media del curso y desviación estandar del curso\n",
        "\n",
        "    Input:\n",
        "      -media_personal: Media personal de un estudiante\n",
        "      -media_curso: Media del curso\n",
        "      -desviacion_curso: Desviación estándar del curso\n",
        "\n",
        "    Output\n",
        "      -CRAEST calculado.\n",
        "    \"\"\"\n",
        "    craest = ((media_personal - media_curso) * 10) / desviacion_curso + 50\n",
        "    return craest"
      ],
      "metadata": {
        "id": "xxoyMlMNPlgV"
      },
      "execution_count": null,
      "outputs": []
    },
    {
      "cell_type": "markdown",
      "source": [
        "Probamos con los datos de algún curso:"
      ],
      "metadata": {
        "id": "AraZW-X3Ru97"
      }
    },
    {
      "cell_type": "code",
      "source": [
        "calcular_craest(17,10.9,4.6)"
      ],
      "metadata": {
        "colab": {
          "base_uri": "https://localhost:8080/"
        },
        "id": "EH0z4CKyR0vm",
        "outputId": "ad78d1e6-dd60-402b-91a8-63f48642b2fb"
      },
      "execution_count": null,
      "outputs": [
        {
          "output_type": "execute_result",
          "data": {
            "text/plain": [
              "63.26086956521739"
            ]
          },
          "metadata": {},
          "execution_count": 4
        }
      ]
    },
    {
      "cell_type": "markdown",
      "source": [],
      "metadata": {
        "id": "HTL3y1hJn2r8"
      }
    }
  ]
}